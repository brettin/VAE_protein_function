{
 "cells": [
  {
   "cell_type": "code",
   "execution_count": 11,
   "metadata": {},
   "outputs": [],
   "source": [
    "# Helper function to translate string to one_hot\n",
    "# Returns an array of arrays.\n",
    "#\n",
    "# The array in the first dim is the sequence.\n",
    "# THe array in the second dim represents the one hot encoded char.\n",
    "import numpy as np\n",
    "def translate_string_to_one_hot(sequence, order_list):\n",
    "    out=np.zeros((len(order_list),len(sequence)))\n",
    "    for i in range(len(sequence)):\n",
    "        out[order_list.index(sequence[i])][i]=1\n",
    "    return out.transpose()\n",
    "\n",
    "def translate_one_hot_to_string(ohe, order_list):\n",
    "    out = ''\n",
    "    for i in range(ohe.shape[0]):\n",
    "        print('argmax: ', ohe[i].argmax() )\n",
    "        out+= order_list[ohe[i].argmax()]\n",
    "    return out"
   ]
  },
  {
   "cell_type": "code",
   "execution_count": 19,
   "metadata": {
    "collapsed": true
   },
   "outputs": [],
   "source": [
    "str = 'naaggccttaaaa'\n",
    "order_list = ['a', 'g', 'c', 't', 'n']"
   ]
  },
  {
   "cell_type": "code",
   "execution_count": 20,
   "metadata": {},
   "outputs": [
    {
     "data": {
      "text/plain": [
       "['a', 'g', 'c', 't', 'n']"
      ]
     },
     "execution_count": 20,
     "metadata": {},
     "output_type": "execute_result"
    }
   ],
   "source": [
    "order_list"
   ]
  },
  {
   "cell_type": "code",
   "execution_count": 21,
   "metadata": {},
   "outputs": [],
   "source": [
    "ohe = translate_string_to_one_hot(str, order_list)"
   ]
  },
  {
   "cell_type": "code",
   "execution_count": 22,
   "metadata": {},
   "outputs": [
    {
     "data": {
      "text/plain": [
       "['a', 'g', 'c', 't', 'n']"
      ]
     },
     "execution_count": 22,
     "metadata": {},
     "output_type": "execute_result"
    }
   ],
   "source": [
    "order_list"
   ]
  },
  {
   "cell_type": "code",
   "execution_count": 23,
   "metadata": {},
   "outputs": [
    {
     "data": {
      "text/plain": [
       "['a', 'g', 'c', 't', 'n']"
      ]
     },
     "execution_count": 23,
     "metadata": {},
     "output_type": "execute_result"
    }
   ],
   "source": [
    "order_list"
   ]
  },
  {
   "cell_type": "code",
   "execution_count": 24,
   "metadata": {},
   "outputs": [
    {
     "data": {
      "text/plain": [
       "['a', 'g', 'c', 't', 'n']"
      ]
     },
     "execution_count": 24,
     "metadata": {},
     "output_type": "execute_result"
    }
   ],
   "source": [
    "order_list"
   ]
  },
  {
   "cell_type": "code",
   "execution_count": 25,
   "metadata": {},
   "outputs": [
    {
     "name": "stdout",
     "output_type": "stream",
     "text": [
      "argmax:  4\n",
      "argmax:  0\n",
      "argmax:  0\n",
      "argmax:  1\n",
      "argmax:  1\n",
      "argmax:  2\n",
      "argmax:  2\n",
      "argmax:  3\n",
      "argmax:  3\n",
      "argmax:  0\n",
      "argmax:  0\n",
      "argmax:  0\n",
      "argmax:  0\n"
     ]
    },
    {
     "data": {
      "text/plain": [
       "'naaggccttaaaa'"
      ]
     },
     "execution_count": 25,
     "metadata": {},
     "output_type": "execute_result"
    }
   ],
   "source": [
    "translate_one_hot_to_string(ohe, order_list)"
   ]
  },
  {
   "cell_type": "code",
   "execution_count": null,
   "metadata": {
    "collapsed": true
   },
   "outputs": [],
   "source": []
  }
 ],
 "metadata": {
  "kernelspec": {
   "display_name": "Python 3",
   "language": "python",
   "name": "python3"
  },
  "language_info": {
   "codemirror_mode": {
    "name": "ipython",
    "version": 3
   },
   "file_extension": ".py",
   "mimetype": "text/x-python",
   "name": "python",
   "nbconvert_exporter": "python",
   "pygments_lexer": "ipython3",
   "version": "3.6.3"
  }
 },
 "nbformat": 4,
 "nbformat_minor": 2
}
